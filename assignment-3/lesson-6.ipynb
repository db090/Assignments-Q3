{
 "cells": [
  {
   "cell_type": "markdown",
   "metadata": {},
   "source": [
    "Lists,Tuples and Dictionaries"
   ]
  },
  {
   "cell_type": "code",
   "execution_count": null,
   "metadata": {},
   "outputs": [],
   "source": [
    "#1. Lists (Mutable - Can Be Modified)\n",
    "# Creating a list\n",
    "fruits = [\"apple\", \"banana\", \"cherry\"]\n",
    "\n",
    "# Adding an element\n",
    "fruits.append(\"orange\")\n",
    "\n",
    "# Removing an element\n",
    "fruits.remove(\"banana\")\n",
    "\n",
    "# Accessing elements\n",
    "print(fruits[0])  # Output: apple\n",
    "\n",
    "# Iterating over a list\n",
    "for fruit in fruits:\n",
    "    print(fruit)\n"
   ]
  },
  {
   "cell_type": "code",
   "execution_count": null,
   "metadata": {},
   "outputs": [],
   "source": [
    "#2. Tuples (Immutable - Cannot Be Modified)\n",
    "# Creating a tuple\n",
    "coordinates = (10, 20)\n",
    "\n",
    "# Accessing elements\n",
    "print(coordinates[0])  # Output: 10\n",
    "\n",
    "# Tuples are immutable, so this will raise an error:\n",
    "# coordinates[0] = 15  # ❌ TypeError: 'tuple' object does not support item assignment\n",
    "\n",
    "# Unpacking a tuple\n",
    "x, y = coordinates\n",
    "print(f\"x: {x}, y: {y}\")  # Output: x: 10, y: 20\n"
   ]
  },
  {
   "cell_type": "code",
   "execution_count": 1,
   "metadata": {},
   "outputs": [
    {
     "name": "stdout",
     "output_type": "stream",
     "text": [
      "John\n",
      "name: John\n",
      "age: 26\n",
      "job: Developer\n"
     ]
    }
   ],
   "source": [
    "#3. Dictionaries (Key-Value Pairs)\n",
    "# Creating a dictionary\n",
    "person = {\n",
    "    \"name\": \"John\",\n",
    "    \"age\": 25,\n",
    "    \"city\": \"New York\"\n",
    "}\n",
    "\n",
    "# Accessing values\n",
    "print(person[\"name\"])  # Output: John\n",
    "\n",
    "# Adding a new key-value pair\n",
    "person[\"job\"] = \"Developer\"\n",
    "\n",
    "# Updating a value\n",
    "person[\"age\"] = 26\n",
    "\n",
    "# Removing a key-value pair\n",
    "del person[\"city\"]\n",
    "\n",
    "# Iterating through dictionary keys and values\n",
    "for key, value in person.items():\n",
    "    print(f\"{key}: {value}\")\n"
   ]
  }
 ],
 "metadata": {
  "kernelspec": {
   "display_name": "Python 3",
   "language": "python",
   "name": "python3"
  },
  "language_info": {
   "codemirror_mode": {
    "name": "ipython",
    "version": 3
   },
   "file_extension": ".py",
   "mimetype": "text/x-python",
   "name": "python",
   "nbconvert_exporter": "python",
   "pygments_lexer": "ipython3",
   "version": "3.13.2"
  }
 },
 "nbformat": 4,
 "nbformat_minor": 2
}
