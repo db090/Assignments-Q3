{
 "cells": [
  {
   "cell_type": "markdown",
   "metadata": {},
   "source": [
    "Set and Frozensets "
   ]
  },
  {
   "cell_type": "code",
   "execution_count": null,
   "metadata": {},
   "outputs": [],
   "source": [
    "#1. Set (Mutable)\n",
    "# Creating a set\n",
    "fruits = {\"apple\", \"banana\", \"cherry\"}\n",
    "\n",
    "# Adding elements\n",
    "fruits.add(\"orange\")\n",
    "\n",
    "# Removing elements\n",
    "fruits.remove(\"banana\")  # Raises an error if the element is not found\n",
    "fruits.discard(\"grape\")  # Does not raise an error if the element is missing\n",
    "\n",
    "# Checking membership\n",
    "print(\"apple\" in fruits)  # Output: True\n",
    "\n",
    "# Iterating over a set\n",
    "for fruit in fruits:\n",
    "    print(fruit)\n",
    "\n",
    "# Set operations\n",
    "A = {1, 2, 3, 4}\n",
    "B = {3, 4, 5, 6}\n",
    "print(A | B)   # Union: {1, 2, 3, 4, 5, 6}\n",
    "print(A & B)   # Intersection: {3, 4}\n",
    "print(A - B)   # Difference: {1, 2}\n"
   ]
  },
  {
   "cell_type": "code",
   "execution_count": null,
   "metadata": {},
   "outputs": [],
   "source": [
    "#2. Frozenset (Immutable)\n",
    "# Creating a frozenset\n",
    "frozen_fruits = frozenset([\"apple\", \"banana\", \"cherry\"])\n",
    "\n",
    "# Accessing elements (only via iteration)\n",
    "for fruit in frozen_fruits:\n",
    "    print(fruit)\n",
    "\n",
    "# Checking membership\n",
    "print(\"apple\" in frozen_fruits)  # Output: True\n",
    "\n",
    "# Set operations (Same as normal sets)\n",
    "A = frozenset({1, 2, 3, 4})\n",
    "B = frozenset({3, 4, 5, 6})\n",
    "print(A | B)  # Union: frozenset({1, 2, 3, 4, 5, 6})\n",
    "print(A & B)  # Intersection: frozenset({3, 4})\n",
    "\n",
    "# Trying to modify the frozenset will raise an error\n",
    "# frozen_fruits.add(\"orange\")  # ❌ AttributeError: 'frozenset' object has no attribute 'add'\n"
   ]
  }
 ],
 "metadata": {
  "kernelspec": {
   "display_name": "Python 3",
   "language": "python",
   "name": "python3"
  },
  "language_info": {
   "name": "python",
   "version": "3.13.2"
  }
 },
 "nbformat": 4,
 "nbformat_minor": 2
}
