{
 "cells": [
  {
   "cell_type": "markdown",
   "metadata": {},
   "source": [
    "Module in Python:"
   ]
  },
  {
   "cell_type": "markdown",
   "metadata": {},
   "source": [
    "A module in Python is a file that contains Python code (functions, classes, variables, or even runnable code) and is used to organize and reuse code efficiently."
   ]
  },
  {
   "cell_type": "markdown",
   "metadata": {},
   "source": [
    "Types of Modules in Python\n",
    "1. Built-in Modules (Standard Library)\n",
    "Pre-installed modules in Python.\n",
    "Example: math, random, os, sys"
   ]
  },
  {
   "cell_type": "markdown",
   "metadata": {},
   "source": [
    "2. User-Defined Modules (Custom Modules)\n",
    "Any Python file (.py) you create can be used as a module."
   ]
  },
  {
   "cell_type": "markdown",
   "metadata": {},
   "source": [
    "3. External Modules (Third-party Libraries)\n",
    "Installed via pip (pip install module_name).\n",
    "Example: numpy, pandas, requests\n",
    "Example usage:"
   ]
  },
  {
   "cell_type": "markdown",
   "metadata": {},
   "source": [
    "Function in Python:"
   ]
  },
  {
   "cell_type": "markdown",
   "metadata": {},
   "source": [
    "A Python function is a block of organized, reusable code that is used to perform a single, related action. Functions provide better modularity for your application and a high degree of code reusing."
   ]
  },
  {
   "cell_type": "code",
   "execution_count": 1,
   "metadata": {},
   "outputs": [
    {
     "name": "stdout",
     "output_type": "stream",
     "text": [
      "8\n"
     ]
    }
   ],
   "source": [
    "def add_numbers(a, b):\n",
    "    return a + b\n",
    "result = add_numbers(5, 3)\n",
    "print(result)  # Output: 8\n"
   ]
  },
  {
   "cell_type": "markdown",
   "metadata": {},
   "source": [
    "Types of Python Functions:\n",
    "1) Built-in Functions\n",
    "Already available as soon as you start Python.\n",
    "No need to import anything!\n"
   ]
  },
  {
   "cell_type": "code",
   "execution_count": 2,
   "metadata": {},
   "outputs": [
    {
     "name": "stdout",
     "output_type": "stream",
     "text": [
      "Hello!\n"
     ]
    }
   ],
   "source": [
    "print(\"Hello!\")    # Built-in function\n",
    "length = len(\"cat\")  # Built-in function\n"
   ]
  },
  {
   "cell_type": "markdown",
   "metadata": {},
   "source": [
    "2) Functions from Built-in Modules\n",
    "Stored in modules, you need to import them first!"
   ]
  },
  {
   "cell_type": "code",
   "execution_count": null,
   "metadata": {},
   "outputs": [],
   "source": [
    "import math  # Import the module\n",
    "print(math.sqrt(16))  # Using sqrt() function from math module\n"
   ]
  },
  {
   "cell_type": "markdown",
   "metadata": {},
   "source": [
    "3) User-defined Functions\n",
    "Functions you create yourself to do specific tasks."
   ]
  },
  {
   "cell_type": "code",
   "execution_count": null,
   "metadata": {},
   "outputs": [],
   "source": [
    "def greet(name):   # User-defined function\n",
    "    print(f\"Hello, {name}!\")\n",
    "    \n",
    "greet(\"Alice\")\n"
   ]
  },
  {
   "cell_type": "markdown",
   "metadata": {},
   "source": [
    "Python Function Arguments:\n",
    "1) Function Arguments:\n",
    "Values passed to a function when calling it."
   ]
  },
  {
   "cell_type": "code",
   "execution_count": null,
   "metadata": {},
   "outputs": [],
   "source": [
    "def greetings(name):\n",
    "    print(f\"Hello {name}\")\n",
    "\n",
    "greetings(\"Ali\")\n",
    "greetings(\"Omar\")\n"
   ]
  },
  {
   "cell_type": "markdown",
   "metadata": {},
   "source": [
    "2) Keyword Arguments:\n",
    "You name the argument when calling the function.\n",
    "Order doesn't matter."
   ]
  },
  {
   "cell_type": "code",
   "execution_count": 3,
   "metadata": {},
   "outputs": [
    {
     "name": "stdout",
     "output_type": "stream",
     "text": [
      "Name: Arif\n",
      "Age: 50\n"
     ]
    }
   ],
   "source": [
    "def printinfo(name, age):\n",
    "    print(\"Name:\", name)\n",
    "    print(\"Age:\", age)\n",
    "\n",
    "printinfo(age=50, name=\"Arif\")\n",
    "\n"
   ]
  },
  {
   "cell_type": "markdown",
   "metadata": {},
   "source": [
    "3) Default Arguments:\n",
    "If no value is passed, Python uses the default value."
   ]
  },
  {
   "cell_type": "code",
   "execution_count": 4,
   "metadata": {},
   "outputs": [
    {
     "name": "stdout",
     "output_type": "stream",
     "text": [
      "Name: Arif\n",
      "Age: 35\n"
     ]
    }
   ],
   "source": [
    "def printinfo(name, age=35):\n",
    "    print(\"Name:\", name)\n",
    "    print(\"Age:\", age)\n",
    "\n",
    "printinfo(name=\"Arif\")  # Age defaults to 35\n"
   ]
  },
  {
   "cell_type": "markdown",
   "metadata": {},
   "source": [
    "4) Unpacking Iterables (*):\n",
    "The * operator unpacks lists/tuples into separate arguments."
   ]
  },
  {
   "cell_type": "code",
   "execution_count": 5,
   "metadata": {},
   "outputs": [
    {
     "name": "stdout",
     "output_type": "stream",
     "text": [
      "6\n",
      "10\n"
     ]
    }
   ],
   "source": [
    "def my_sum(*nums):\n",
    "    return sum(nums)\n",
    "\n",
    "print(my_sum(1, 2, 3))          # Normal\n",
    "print(my_sum(*[1, 2, 3, 4]))    # Unpacking list\n"
   ]
  },
  {
   "cell_type": "markdown",
   "metadata": {},
   "source": [
    "5) Positional-Only Arguments (/):\n",
    "Must pass by position, can't use names.\n",
    "Defined by putting / in the function."
   ]
  },
  {
   "cell_type": "code",
   "execution_count": 6,
   "metadata": {},
   "outputs": [
    {
     "name": "stdout",
     "output_type": "stream",
     "text": [
      "6\n"
     ]
    }
   ],
   "source": [
    "def posFun(x, y, /, z):\n",
    "    print(x + y + z)\n",
    "\n",
    "posFun(1, 2, z=3)   # Correct\n",
    "# posFun(x=1, y=2, z=3)  # ❌ Error\n"
   ]
  },
  {
   "cell_type": "markdown",
   "metadata": {},
   "source": [
    "6) Keyword-Only Arguments (*):\n",
    "Must use keywords when calling.\n",
    "Defined by putting * in function parameters."
   ]
  },
  {
   "cell_type": "code",
   "execution_count": 7,
   "metadata": {},
   "outputs": [
    {
     "name": "stdout",
     "output_type": "stream",
     "text": [
      "240\n"
     ]
    }
   ],
   "source": [
    "def posFun(*, num1, num2, num3):\n",
    "    print(num1 * num2 * num3)\n",
    "\n",
    "posFun(num1=6, num2=8, num3=5)  # Must use keywords\n"
   ]
  },
  {
   "cell_type": "markdown",
   "metadata": {},
   "source": [
    "Variable-length Arguments (*args):\n",
    "Use *args to accept any number of positional arguments.\n"
   ]
  },
  {
   "cell_type": "code",
   "execution_count": 8,
   "metadata": {},
   "outputs": [
    {
     "name": "stdout",
     "output_type": "stream",
     "text": [
      "('cheese', 'pepperoni', 'olives')\n"
     ]
    }
   ],
   "source": [
    "def make_pizza(*toppings):\n",
    "    print(toppings)\n",
    "\n",
    "make_pizza('cheese', 'pepperoni', 'olives')\n"
   ]
  },
  {
   "cell_type": "markdown",
   "metadata": {},
   "source": [
    "Python Function with Return Value:\n",
    "\n",
    "return ends the function and sends a value back to the caller.\n",
    "\n",
    "The returned value can be stored for later use.\n",
    "\n",
    "Always use return explicitly—it's clear and good practice!"
   ]
  },
  {
   "cell_type": "code",
   "execution_count": 9,
   "metadata": {},
   "outputs": [
    {
     "name": "stdout",
     "output_type": "stream",
     "text": [
      "7\n"
     ]
    }
   ],
   "source": [
    "def add(a, b):\n",
    "    return a + b\n",
    "\n",
    "result = add(3, 4)\n",
    "print(result)  # Output: 7\n"
   ]
  },
  {
   "cell_type": "markdown",
   "metadata": {},
   "source": [
    "Anonymous Functions (Lambda)\n",
    "\n",
    "Lambda creates small, one-line anonymous functions.\n",
    "\n",
    "No def, just:\n",
    "lambda args: expression\n",
    "\n"
   ]
  },
  {
   "cell_type": "code",
   "execution_count": 2,
   "metadata": {},
   "outputs": [
    {
     "name": "stdout",
     "output_type": "stream",
     "text": [
      "{'banana': 2, 'apple': 5}\n"
     ]
    }
   ],
   "source": [
    "fruits = {\"apple\": 5, \"banana\": 2}\n",
    "sorted_fruits = dict(sorted(fruits.items(), key=lambda item: item[1]))\n",
    "print(sorted_fruits)  # Sorted by value\n"
   ]
  },
  {
   "cell_type": "code",
   "execution_count": 11,
   "metadata": {},
   "outputs": [
    {
     "name": "stdout",
     "output_type": "stream",
     "text": [
      "dict_items([('apple', 5), ('banana', 2)])\n"
     ]
    }
   ],
   "source": [
    "fruits = {\"apple\": 5, \"banana\": 2}\n",
    "print(fruits.items())"
   ]
  },
  {
   "cell_type": "markdown",
   "metadata": {},
   "source": [
    "Arbitrary Keyword Arguments (**kwargs):\n",
    "\n",
    "**kwargs collects unlimited keyword arguments into a dictionary.\n",
    "\n",
    "No fixed names, just:\n",
    "**kwargs → becomes {key: value, ...} dictionary inside function."
   ]
  },
  {
   "cell_type": "code",
   "execution_count": 4,
   "metadata": {},
   "outputs": [
    {
     "name": "stdout",
     "output_type": "stream",
     "text": [
      "name=Daniyal\n",
      "age=19\n",
      "hobby=football\n"
     ]
    }
   ],
   "source": [
    "def greet(**kwargs):\n",
    "    for key,value in kwargs.items():\n",
    "        print(f\"{key}={value}\")\n",
    "\n",
    "greet(name=\"Daniyal\",age=19,hobby=\"football\")"
   ]
  },
  {
   "cell_type": "markdown",
   "metadata": {},
   "source": [
    "Generator:\n",
    "\n",
    "Function that gives you one value at a time, remembers where it stopped, and saves memory!"
   ]
  },
  {
   "cell_type": "code",
   "execution_count": 15,
   "metadata": {},
   "outputs": [
    {
     "name": "stdout",
     "output_type": "stream",
     "text": [
      "1\n",
      "2\n",
      "3\n",
      "4\n"
     ]
    }
   ],
   "source": [
    "def count_up():\n",
    "    yield 1\n",
    "    yield 2\n",
    "    yield 3\n",
    "    yield 4\n",
    "\n",
    "numbers = count_up()\n",
    "\n",
    "for number in numbers:\n",
    "    print(number)"
   ]
  },
  {
   "cell_type": "markdown",
   "metadata": {},
   "source": [
    " Infinite Sequence:\n",
    "\n",
    "Generators are useful for generating infinite sequences since they don’t store all values in memory."
   ]
  },
  {
   "cell_type": "code",
   "execution_count": 21,
   "metadata": {},
   "outputs": [
    {
     "name": "stdout",
     "output_type": "stream",
     "text": [
      "Ticket #1\n",
      "Ticket #2\n",
      "Ticket #3\n",
      "Ticket #4\n",
      "Ticket #5\n"
     ]
    }
   ],
   "source": [
    "def ticket_machine():\n",
    "    ticket=1\n",
    "    while True:\n",
    "        yield f\"Ticket #{ticket}\"\n",
    "        ticket+=1\n",
    "\n",
    "machine=ticket_machine()\n",
    "for _ in range(5):\n",
    "    print(next(machine))\n",
    "\n",
    "    "
   ]
  },
  {
   "cell_type": "markdown",
   "metadata": {},
   "source": [
    "Generator Expressions:\n",
    "\n",
    "Like list comprehensions, but with round brackets ().\n",
    "\n",
    "Creates items one at a time, saves memory!\n",
    "\n"
   ]
  },
  {
   "cell_type": "code",
   "execution_count": 22,
   "metadata": {},
   "outputs": [
    {
     "name": "stdout",
     "output_type": "stream",
     "text": [
      "Candy #1\n",
      "Candy #2\n",
      "Candy #3\n"
     ]
    }
   ],
   "source": [
    "candies = (f\"Candy #{i}\" for i in range(1, 4))\n",
    "\n",
    "for candy in candies:\n",
    "    print(candy)\n"
   ]
  },
  {
   "cell_type": "markdown",
   "metadata": {},
   "source": [
    "Recursive Function:\n",
    "\n",
    "A function that calls itself.\n",
    "\n",
    "Must have a base case to stop.\n",
    "\n",
    "Breaks big problems into smaller ones."
   ]
  },
  {
   "cell_type": "code",
   "execution_count": null,
   "metadata": {},
   "outputs": [
    {
     "name": "stdout",
     "output_type": "stream",
     "text": [
      "1\n",
      "Done!\n"
     ]
    }
   ],
   "source": [
    "def countdown(n):\n",
    "    if n == 0:\n",
    "        print(\"Done!\")\n",
    "    else:\n",
    "        print(n)\n",
    "        countdown(n - 1)\n",
    "countdown(3)\n"
   ]
  }
 ],
 "metadata": {
  "kernelspec": {
   "display_name": "Python 3",
   "language": "python",
   "name": "python3"
  },
  "language_info": {
   "codemirror_mode": {
    "name": "ipython",
    "version": 3
   },
   "file_extension": ".py",
   "mimetype": "text/x-python",
   "name": "python",
   "nbconvert_exporter": "python",
   "pygments_lexer": "ipython3",
   "version": "3.13.2"
  }
 },
 "nbformat": 4,
 "nbformat_minor": 2
}
