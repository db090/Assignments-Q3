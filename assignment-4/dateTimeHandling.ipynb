{
 "cells": [
  {
   "cell_type": "markdown",
   "metadata": {},
   "source": [
    "The Date & Time:\n",
    "\n",
    "The epoch is the reference point in time from which time is measured, often set to January 1, 1970, at 12:00 AM UTC. In Python, time intervals are represented as floating-point numbers in seconds since this epoch. This concept helps track and manipulate time in programming."
   ]
  },
  {
   "cell_type": "code",
   "execution_count": 4,
   "metadata": {},
   "outputs": [
    {
     "name": "stdout",
     "output_type": "stream",
     "text": [
      "Seconds since epoch: 1743155022.514702\n",
      "Readable time: Fri Mar 28 14:43:42 2025\n"
     ]
    }
   ],
   "source": [
    "import time\n",
    "\n",
    "# Get the current time in seconds since the epoch\n",
    "current_time = time.time()\n",
    "print(\"Seconds since epoch:\", current_time)\n",
    "\n",
    "# Convert it to a readable format\n",
    "readable_time = time.ctime(current_time)\n",
    "print(\"Readable time:\", readable_time)\n"
   ]
  },
  {
   "cell_type": "markdown",
   "metadata": {},
   "source": [
    "Getting the Calendar for a Month:\n",
    "\n",
    "The calendar module gives a wide range of methods to play with yearly and monthly calendars. Here, we print a calendar for a given month (Jan 2025)."
   ]
  },
  {
   "cell_type": "code",
   "execution_count": 5,
   "metadata": {},
   "outputs": [
    {
     "name": "stdout",
     "output_type": "stream",
     "text": [
      "     March 2025\n",
      "Mo Tu We Th Fr Sa Su\n",
      "                1  2\n",
      " 3  4  5  6  7  8  9\n",
      "10 11 12 13 14 15 16\n",
      "17 18 19 20 21 22 23\n",
      "24 25 26 27 28 29 30\n",
      "31\n",
      "\n"
     ]
    }
   ],
   "source": [
    "import calendar\n",
    "cal=calendar.month(2025,3)\n",
    "print(cal)"
   ]
  },
  {
   "cell_type": "markdown",
   "metadata": {},
   "source": [
    "The Date Time"
   ]
  },
  {
   "cell_type": "code",
   "execution_count": null,
   "metadata": {},
   "outputs": [
    {
     "name": "stdout",
     "output_type": "stream",
     "text": [
      "2023-04-30\n"
     ]
    }
   ],
   "source": [
    "from datetime import date\n",
    "\n",
    "date1 = date(2023, 4, 19)\n",
    "print(\"Date:\", date1)\n",
    "date2 = date(2023, 4, 30)\n",
    "print(\"Date2:\", date2)"
   ]
  },
  {
   "cell_type": "code",
   "execution_count": 8,
   "metadata": {},
   "outputs": [
    {
     "name": "stdout",
     "output_type": "stream",
     "text": [
      "2025-03-28 14:48:53.587340\n"
     ]
    }
   ],
   "source": [
    "import datetime\n",
    "x=datetime.datetime.now()\n",
    "print(x)"
   ]
  },
  {
   "cell_type": "markdown",
   "metadata": {},
   "source": [
    "strftime() Method in Python:\n",
    "\n",
    "The strftime() method in Python is used to format date and time objects into readable strings. It is part of the datetime module and allows customization of the output using format codes."
   ]
  },
  {
   "cell_type": "code",
   "execution_count": 13,
   "metadata": {},
   "outputs": [
    {
     "name": "stdout",
     "output_type": "stream",
     "text": [
      "2025-03-28 15:04:10.202543\n",
      "March-Friday-2025\n"
     ]
    }
   ],
   "source": [
    "import datetime\n",
    "x=datetime.datetime.now()\n",
    "print(x)\n",
    "print(x.strftime(\"%B-%A-%Y\"))"
   ]
  },
  {
   "cell_type": "markdown",
   "metadata": {},
   "source": [
    "Common Format Codes:\n",
    "%Y → Year (e.g., 2025)\n",
    "\n",
    "%m → Month (01-12)\n",
    "\n",
    "%d → Day (01-31)\n",
    "\n",
    "%H → Hour (00-23)\n",
    "\n",
    "%M → Minute (00-59)\n",
    "\n",
    "%S → Second (00-59)"
   ]
  },
  {
   "cell_type": "markdown",
   "metadata": {},
   "source": [
    "Python Math Module:\n",
    "\n",
    "The math module in Python provides a wide range of mathematical functions, including operations for trigonometry, logarithms, exponentiation, factorials, and more. It is a built-in module, so you don’t need to install anything extra to use it."
   ]
  },
  {
   "cell_type": "code",
   "execution_count": null,
   "metadata": {},
   "outputs": [],
   "source": [
    "import math\n",
    "\n",
    "class MathOperations:\n",
    "    def __init__(self,number):\n",
    "        self.number=number\n",
    "\n",
    "    def square_root(self):\n",
    "        return math.sqrt(self.number)\n",
    "    \n",
    "    def power(self,exponent):\n",
    "        return math.pow(self.number,exponent)\n",
    "    \n",
    "    def factorial(self):\n",
    "        return math.factorial(int(self.number))\n",
    "    \n",
    "    def ciel_value(self):\n",
    "        return math.ceil(self.number)\n",
    "    \n",
    "    def floor_value(self):\n",
    "        return math.floor(self.number)\n",
    "    \n",
    "    def logarithm(self,base=math.e):\n",
    "        return math.log(self.number,base)\n",
    "    \n",
    "    #Example Usage\n",
    "num = MathOperations(5)\n",
    "print(\"Square Root:\", num.square_root())\n",
    "print(\"Power (5^3):\", num.power(3))\n",
    "print(\"Factorial:\", num.factorial())\n",
    "print(\"Ceil Value:\", num.ceil_value())\n",
    "print(\"Floor Value:\", num.floor_value())\n",
    "print(\"Logarithm (base e):\", num.logarithm())"
   ]
  }
 ],
 "metadata": {
  "kernelspec": {
   "display_name": "Python 3",
   "language": "python",
   "name": "python3"
  },
  "language_info": {
   "codemirror_mode": {
    "name": "ipython",
    "version": 3
   },
   "file_extension": ".py",
   "mimetype": "text/x-python",
   "name": "python",
   "nbconvert_exporter": "python",
   "pygments_lexer": "ipython3",
   "version": "3.13.2"
  }
 },
 "nbformat": 4,
 "nbformat_minor": 2
}
