{
 "cells": [
  {
   "cell_type": "markdown",
   "metadata": {},
   "source": [
    "Exception Handling with try, except, else, and finally\n",
    "\n",
    "1. The try Block:\n",
    "\n",
    "    It tries to run code that might cause an error.\n",
    "    If something goes wrong, Python doesn’t crash—it moves to the except block!"
   ]
  },
  {
   "cell_type": "code",
   "execution_count": null,
   "metadata": {},
   "outputs": [],
   "source": [
    "try:\n",
    "    pass\n",
    "    # risky code\n",
    "except:\n",
    "    pass\n",
    "    # what to do if error happens\n"
   ]
  },
  {
   "cell_type": "markdown",
   "metadata": {},
   "source": [
    "Except Block in Python:\n",
    "\n",
    "The except block catches the error if something goes wrong in the try block.\n",
    "Without except, Python crashes when errors happen!"
   ]
  },
  {
   "cell_type": "code",
   "execution_count": null,
   "metadata": {},
   "outputs": [],
   "source": [
    "try:\n",
    "    print(10 / 0)  # Uh-oh! Division by zero!\n",
    "except:\n",
    "    print(\"Caught an error! Can't divide by zero! 🚫\")\n"
   ]
  },
  {
   "cell_type": "markdown",
   "metadata": {},
   "source": [
    "Else Block in Python:\n",
    "\n",
    "The else block runs ONLY if no error happens in the try block!\n",
    "It’s like saying:\n",
    "\"Everything went fine, now do this extra thing!\""
   ]
  },
  {
   "cell_type": "code",
   "execution_count": 3,
   "metadata": {},
   "outputs": [
    {
     "name": "stdout",
     "output_type": "stream",
     "text": [
      "Dividing...\n",
      "Success! Result is: 5.0 🎉\n"
     ]
    }
   ],
   "source": [
    "try:\n",
    "    print(\"Dividing...\")\n",
    "    result = 10 / 2  # No error here\n",
    "except:\n",
    "    print(\"Oops! Error happened! 🚫\")\n",
    "else:\n",
    "    print(\"Success! Result is:\", result, \"🎉\")\n"
   ]
  },
  {
   "cell_type": "markdown",
   "metadata": {},
   "source": [
    "Finally Block in Python:\n",
    "\n",
    "The finally block always runs, no matter what!\n",
    "Whether there’s an error or not, Python guarantees the finally block will execute."
   ]
  },
  {
   "cell_type": "code",
   "execution_count": null,
   "metadata": {},
   "outputs": [
    {
     "name": "stdout",
     "output_type": "stream",
     "text": [
      "Opening file...\n",
      "Caught an error! 🚫\n",
      "Closing file... 🔒 (Always runs!)\n"
     ]
    }
   ],
   "source": [
    "\"\"\" try:\n",
    "    # risky code\n",
    "except:\n",
    "    # handle error\n",
    "else:\n",
    "    # runs if no error\n",
    "finally:\n",
    "    # always runs!\n",
    " \"\"\"\n"
   ]
  },
  {
   "cell_type": "markdown",
   "metadata": {},
   "source": [
    "Putting It All Together"
   ]
  },
  {
   "cell_type": "code",
   "execution_count": null,
   "metadata": {},
   "outputs": [],
   "source": [
    "try:\n",
    "    print(\"Opening file...\")\n",
    "    1 / 0  # Oops! Error here\n",
    "except:\n",
    "    print(\"Caught an error! 🚫\")\n",
    "else:\n",
    "    print(\"No errors! 😊\")\n",
    "finally:\n",
    "    print(\"Closing file... 🔒 (Always runs!)\")\n"
   ]
  },
  {
   "cell_type": "markdown",
   "metadata": {},
   "source": [
    "Practice Problem:"
   ]
  },
  {
   "cell_type": "code",
   "execution_count": null,
   "metadata": {},
   "outputs": [],
   "source": [
    "# will do"
   ]
  },
  {
   "cell_type": "markdown",
   "metadata": {},
   "source": [
    "Throwing (Raising) an Exception:\n",
    "\n",
    "You manually raise an error when something isn’t right.\n",
    "Python won’t always know when something’s wrong...\n",
    "You can tell it!"
   ]
  },
  {
   "cell_type": "code",
   "execution_count": 7,
   "metadata": {},
   "outputs": [
    {
     "ename": "ValueError",
     "evalue": "Age can't be negative! 🚫",
     "output_type": "error",
     "traceback": [
      "\u001b[31m---------------------------------------------------------------------------\u001b[39m",
      "\u001b[31mValueError\u001b[39m                                Traceback (most recent call last)",
      "\u001b[36mCell\u001b[39m\u001b[36m \u001b[39m\u001b[32mIn[7]\u001b[39m\u001b[32m, line 4\u001b[39m\n\u001b[32m      1\u001b[39m age = \u001b[38;5;28mint\u001b[39m(\u001b[38;5;28minput\u001b[39m(\u001b[33m\"\u001b[39m\u001b[33mEnter your age: \u001b[39m\u001b[33m\"\u001b[39m))\n\u001b[32m      3\u001b[39m \u001b[38;5;28;01mif\u001b[39;00m age < \u001b[32m0\u001b[39m:\n\u001b[32m----> \u001b[39m\u001b[32m4\u001b[39m     \u001b[38;5;28;01mraise\u001b[39;00m \u001b[38;5;167;01mValueError\u001b[39;00m(\u001b[33m\"\u001b[39m\u001b[33mAge can\u001b[39m\u001b[33m'\u001b[39m\u001b[33mt be negative! 🚫\u001b[39m\u001b[33m\"\u001b[39m)\n\u001b[32m      5\u001b[39m \u001b[38;5;28;01melse\u001b[39;00m:\n\u001b[32m      6\u001b[39m     \u001b[38;5;28mprint\u001b[39m(\u001b[33m\"\u001b[39m\u001b[33mYour age is:\u001b[39m\u001b[33m\"\u001b[39m, age)\n",
      "\u001b[31mValueError\u001b[39m: Age can't be negative! 🚫"
     ]
    }
   ],
   "source": [
    "age = int(input(\"Enter your age: \"))\n",
    "\n",
    "if age < 0:\n",
    "    raise ValueError(\"Age can't be negative! 🚫\")\n",
    "else:\n",
    "    print(\"Your age is:\", age)\n"
   ]
  },
  {
   "cell_type": "markdown",
   "metadata": {},
   "source": [
    "NoReturn Type Hint (from typing module):\n",
    "\n",
    "NoReturn means:\n",
    "This function never returns a value.\n",
    "It either:\n",
    "\n",
    "Raises an exception\n",
    "\n",
    "Exits the program\n",
    "\n",
    "Runs forever"
   ]
  },
  {
   "cell_type": "code",
   "execution_count": 13,
   "metadata": {},
   "outputs": [
    {
     "name": "stdout",
     "output_type": "stream",
     "text": [
      "Caught the error: Something went wrong! 💥 ✅\n"
     ]
    }
   ],
   "source": [
    "from typing import NoReturn\n",
    "\n",
    "def crash_program() -> NoReturn:\n",
    "    raise Exception(\"Something went wrong! 💥\")\n",
    "\n",
    "try:\n",
    "    crash_program()\n",
    "except Exception as e:\n",
    "    print(f\"Caught the error: {e} ✅\")\n",
    "\n"
   ]
  },
  {
   "cell_type": "code",
   "execution_count": null,
   "metadata": {},
   "outputs": [],
   "source": []
  }
 ],
 "metadata": {
  "kernelspec": {
   "display_name": "Python 3",
   "language": "python",
   "name": "python3"
  },
  "language_info": {
   "codemirror_mode": {
    "name": "ipython",
    "version": 3
   },
   "file_extension": ".py",
   "mimetype": "text/x-python",
   "name": "python",
   "nbconvert_exporter": "python",
   "pygments_lexer": "ipython3",
   "version": "3.13.2"
  }
 },
 "nbformat": 4,
 "nbformat_minor": 2
}
