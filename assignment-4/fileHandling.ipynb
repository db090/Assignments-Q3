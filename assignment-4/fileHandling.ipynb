{
 "cells": [
  {
   "cell_type": "markdown",
   "metadata": {},
   "source": [
    "File Handling in Python:\n",
    "\n",
    "File handling allows us to read from and write to files. Python provides built-in functions like open() to work with files."
   ]
  },
  {
   "cell_type": "code",
   "execution_count": null,
   "metadata": {},
   "outputs": [],
   "source": [
    "# Step 1: Create a file and write some content\n",
    "with open(\"fun_file.txt\", \"w\") as file:\n",
    "    file.write(\"Hello, Jupyter Notebook! 📝\\n\")\n",
    "\n",
    "# Step 2: Read the file content\n",
    "with open(\"fun_file.txt\", \"r\") as file:\n",
    "    print(\"📖 File content after write:\")\n",
    "    print(file.read())\n",
    "\n",
    "# Step 3: Append new content to the file\n",
    "with open(\"fun_file.txt\", \"a\") as file:\n",
    "    file.write(\"Adding more fun stuff! 🎉\\n\")\n",
    "\n",
    "# Step 4: Read again to see the updated content\n",
    "with open(\"fun_file.txt\", \"r\") as file:\n",
    "    print(\"\\n📖 File content after append:\")\n",
    "    print(file.read())\n",
    "\n",
    "# Step 5: Try 'x' mode (will fail if file exists)\n",
    "try:\n",
    "    with open(\"fun_file.txt\", \"x\") as file:\n",
    "        file.write(\"This will cause an error if the file exists!\")\n",
    "except FileExistsError:\n",
    "    print(\"\\n⚠️ File already exists! 'x' mode prevents overwriting.\")\n",
    "\n",
    "\n"
   ]
  }
 ],
 "metadata": {
  "kernelspec": {
   "display_name": "base",
   "language": "python",
   "name": "python3"
  },
  "language_info": {
   "name": "python",
   "version": "3.12.7"
  }
 },
 "nbformat": 4,
 "nbformat_minor": 2
}
